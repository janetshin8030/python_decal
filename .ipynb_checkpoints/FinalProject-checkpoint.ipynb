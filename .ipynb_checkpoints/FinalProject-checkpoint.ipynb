{
 "cells": [
  {
   "cell_type": "code",
   "execution_count": 1,
   "id": "f83da79e-a7aa-425d-b153-b21db367a82e",
   "metadata": {},
   "outputs": [],
   "source": [
    "import os\n",
    "import mne\n",
    "import numpy as np\n",
    "import matplotlib.pyplot as plt\n",
    "from sklearn.ensemble import RandomForestClassifier\n",
    "from sklearn.model_selection import train_test_split\n",
    "from sklearn.metrics import accuracy_score, classification_report\n",
    "from joblib import dump, load"
   ]
  },
  {
   "cell_type": "code",
   "execution_count": 3,
   "id": "c377538c-16a5-4609-8225-22fdbb0b8e71",
   "metadata": {},
   "outputs": [],
   "source": [
    "data_dir = \"/Users/janet/projectnyx/sleep_data/physionet.org/files/sleep-edfx/1.0.0/sleep-cassette\" \n",
    "output_dir = \"/Users/janet/projectnyx/sleep_data/EEG_preprocessed\"       # Directory to save preprocessed files in a seperate project folder!\n",
    "os.makedirs(output_dir, exist_ok=True)"
   ]
  },
  {
   "cell_type": "code",
   "execution_count": 5,
   "id": "12412f27-1406-40fa-8c8f-980d5ea1302d",
   "metadata": {},
   "outputs": [],
   "source": [
    "def preprocess_sleep_edf(data_dir, output_dir, window_size=30):\n",
    "    for file in os.listdir(data_dir):\n",
    "        if file.endswith('PSG.edf'):\n",
    "            file_path = os.path.join(data_dir, file)\n",
    "            try:\n",
    "                raw = mne.io.read_raw_edf(file_path, preload=True)\n",
    "                raw.pick_channels(['EEG Fpz-Cz', 'EEG Pz-Oz'])\n",
    "                raw.filter(0.5, 40)\n",
    "                data = raw.get_data()\n",
    "                sfreq = raw.info['sfreq'] # what does this do\n",
    "                epoch_samples = int(window_size * sfreq)\n",
    "                epochs = np.array([np.array_split(channel, len(channel) // epoch_samples) for channel in data]) # saving as numpy array\n",
    "                output_file = os.path.join(output_dir, file.replace('PSG.edf', 'preprocessed.npz'))\n",
    "                np.savez(output_file, epochs=epochs, sfreq=sfreq)\n",
    "                print(f\"Processed: {file}\")\n",
    "            except Exception as e:\n",
    "                print(f\"Error processing {file}: {str(e)}\")\n",
    "\n",
    "def visualize_data():\n",
    "    # raw data\n",
    "    raw.plot(duration= 60, n_channels= 2, title = \"Raw Data\")\n",
    "    plt.savefig(os.path.join(output_dir, f\"{filename}_raw.png\"))\n",
    "    plt.close()\n",
    "    \n",
    "    # first epoch in each preprocessed data"
   ]
  },
  {
   "cell_type": "code",
   "execution_count": null,
   "id": "36bb2cca-4db7-4839-bc38-038d3d9bded2",
   "metadata": {},
   "outputs": [
    {
     "name": "stdout",
     "output_type": "stream",
     "text": [
      "Extracting EDF parameters from /Users/janet/projectnyx/sleep_data/physionet.org/files/sleep-edfx/1.0.0/sleep-cassette/SC4002E0-PSG.edf...\n",
      "EDF file detected\n",
      "Setting channel info structure...\n",
      "Creating raw.info structure...\n"
     ]
    },
    {
     "name": "stderr",
     "output_type": "stream",
     "text": [
      "/var/folders/zf/8kv8czns0zgczf46xq4ht9kc0000gn/T/ipykernel_97781/2528426465.py:6: RuntimeWarning: Channels contain different highpass filters. Highest filter setting will be stored.\n",
      "  raw = mne.io.read_raw_edf(file_path, preload=True)\n",
      "/var/folders/zf/8kv8czns0zgczf46xq4ht9kc0000gn/T/ipykernel_97781/2528426465.py:6: RuntimeWarning: Channels contain different lowpass filters. Lowest filter setting will be stored.\n",
      "  raw = mne.io.read_raw_edf(file_path, preload=True)\n",
      "/var/folders/zf/8kv8czns0zgczf46xq4ht9kc0000gn/T/ipykernel_97781/2528426465.py:6: RuntimeWarning: Highpass cutoff frequency 16.0 is greater than lowpass cutoff frequency 0.7, setting values to 0 and Nyquist.\n",
      "  raw = mne.io.read_raw_edf(file_path, preload=True)\n"
     ]
    },
    {
     "name": "stdout",
     "output_type": "stream",
     "text": [
      "Reading 0 ... 8489999  =      0.000 ... 84899.990 secs...\n",
      "NOTE: pick_channels() is a legacy function. New code should use inst.pick(...).\n",
      "Filtering raw data in 1 contiguous segment\n",
      "Setting up band-pass filter from 0.5 - 40 Hz\n",
      "\n",
      "FIR filter parameters\n",
      "---------------------\n",
      "Designing a one-pass, zero-phase, non-causal bandpass filter:\n",
      "- Windowed time-domain design (firwin) method\n",
      "- Hamming window with 0.0194 passband ripple and 53 dB stopband attenuation\n",
      "- Lower passband edge: 0.50\n",
      "- Lower transition bandwidth: 0.50 Hz (-6 dB cutoff frequency: 0.25 Hz)\n",
      "- Upper passband edge: 40.00 Hz\n",
      "- Upper transition bandwidth: 10.00 Hz (-6 dB cutoff frequency: 45.00 Hz)\n",
      "- Filter length: 661 samples (6.610 s)\n",
      "\n",
      "Processed: SC4002E0-PSG.edf\n",
      "Extracting EDF parameters from /Users/janet/projectnyx/sleep_data/physionet.org/files/sleep-edfx/1.0.0/sleep-cassette/SC4061E0-PSG.edf...\n",
      "EDF file detected\n",
      "Setting channel info structure...\n",
      "Creating raw.info structure...\n",
      "Reading 0 ... 3611999  =      0.000 ... 36119.990 secs...\n"
     ]
    },
    {
     "name": "stderr",
     "output_type": "stream",
     "text": [
      "/var/folders/zf/8kv8czns0zgczf46xq4ht9kc0000gn/T/ipykernel_97781/2528426465.py:6: RuntimeWarning: Number of records from the header does not match the file size (perhaps the recording was not stopped before exiting). Inferring from the file size.\n",
      "  raw = mne.io.read_raw_edf(file_path, preload=True)\n",
      "/var/folders/zf/8kv8czns0zgczf46xq4ht9kc0000gn/T/ipykernel_97781/2528426465.py:6: RuntimeWarning: Channels contain different highpass filters. Highest filter setting will be stored.\n",
      "  raw = mne.io.read_raw_edf(file_path, preload=True)\n",
      "/var/folders/zf/8kv8czns0zgczf46xq4ht9kc0000gn/T/ipykernel_97781/2528426465.py:6: RuntimeWarning: Channels contain different lowpass filters. Lowest filter setting will be stored.\n",
      "  raw = mne.io.read_raw_edf(file_path, preload=True)\n",
      "/var/folders/zf/8kv8czns0zgczf46xq4ht9kc0000gn/T/ipykernel_97781/2528426465.py:6: RuntimeWarning: Highpass cutoff frequency 16.0 is greater than lowpass cutoff frequency 0.7, setting values to 0 and Nyquist.\n",
      "  raw = mne.io.read_raw_edf(file_path, preload=True)\n"
     ]
    },
    {
     "name": "stdout",
     "output_type": "stream",
     "text": [
      "NOTE: pick_channels() is a legacy function. New code should use inst.pick(...).\n",
      "Filtering raw data in 1 contiguous segment\n",
      "Setting up band-pass filter from 0.5 - 40 Hz\n",
      "\n",
      "FIR filter parameters\n",
      "---------------------\n",
      "Designing a one-pass, zero-phase, non-causal bandpass filter:\n",
      "- Windowed time-domain design (firwin) method\n",
      "- Hamming window with 0.0194 passband ripple and 53 dB stopband attenuation\n",
      "- Lower passband edge: 0.50\n",
      "- Lower transition bandwidth: 0.50 Hz (-6 dB cutoff frequency: 0.25 Hz)\n",
      "- Upper passband edge: 40.00 Hz\n",
      "- Upper transition bandwidth: 10.00 Hz (-6 dB cutoff frequency: 45.00 Hz)\n",
      "- Filter length: 661 samples (6.610 s)\n",
      "\n",
      "Processed: SC4061E0-PSG.edf\n",
      "Extracting EDF parameters from /Users/janet/projectnyx/sleep_data/physionet.org/files/sleep-edfx/1.0.0/sleep-cassette/SC4031E0-PSG.edf...\n",
      "EDF file detected\n",
      "Setting channel info structure...\n",
      "Creating raw.info structure...\n",
      "Reading 0 ... 8459999  =      0.000 ... 84599.990 secs...\n"
     ]
    },
    {
     "name": "stderr",
     "output_type": "stream",
     "text": [
      "/var/folders/zf/8kv8czns0zgczf46xq4ht9kc0000gn/T/ipykernel_97781/2528426465.py:6: RuntimeWarning: Channels contain different highpass filters. Highest filter setting will be stored.\n",
      "  raw = mne.io.read_raw_edf(file_path, preload=True)\n",
      "/var/folders/zf/8kv8czns0zgczf46xq4ht9kc0000gn/T/ipykernel_97781/2528426465.py:6: RuntimeWarning: Channels contain different lowpass filters. Lowest filter setting will be stored.\n",
      "  raw = mne.io.read_raw_edf(file_path, preload=True)\n",
      "/var/folders/zf/8kv8czns0zgczf46xq4ht9kc0000gn/T/ipykernel_97781/2528426465.py:6: RuntimeWarning: Highpass cutoff frequency 16.0 is greater than lowpass cutoff frequency 0.7, setting values to 0 and Nyquist.\n",
      "  raw = mne.io.read_raw_edf(file_path, preload=True)\n"
     ]
    },
    {
     "name": "stdout",
     "output_type": "stream",
     "text": [
      "NOTE: pick_channels() is a legacy function. New code should use inst.pick(...).\n",
      "Filtering raw data in 1 contiguous segment\n",
      "Setting up band-pass filter from 0.5 - 40 Hz\n",
      "\n",
      "FIR filter parameters\n",
      "---------------------\n",
      "Designing a one-pass, zero-phase, non-causal bandpass filter:\n",
      "- Windowed time-domain design (firwin) method\n",
      "- Hamming window with 0.0194 passband ripple and 53 dB stopband attenuation\n",
      "- Lower passband edge: 0.50\n",
      "- Lower transition bandwidth: 0.50 Hz (-6 dB cutoff frequency: 0.25 Hz)\n",
      "- Upper passband edge: 40.00 Hz\n",
      "- Upper transition bandwidth: 10.00 Hz (-6 dB cutoff frequency: 45.00 Hz)\n",
      "- Filter length: 661 samples (6.610 s)\n",
      "\n",
      "Processed: SC4031E0-PSG.edf\n",
      "Extracting EDF parameters from /Users/janet/projectnyx/sleep_data/physionet.org/files/sleep-edfx/1.0.0/sleep-cassette/SC4052E0-PSG.edf...\n",
      "EDF file detected\n",
      "Setting channel info structure...\n",
      "Creating raw.info structure...\n",
      "Reading 0 ... 8417999  =      0.000 ... 84179.990 secs...\n"
     ]
    },
    {
     "name": "stderr",
     "output_type": "stream",
     "text": [
      "/var/folders/zf/8kv8czns0zgczf46xq4ht9kc0000gn/T/ipykernel_97781/2528426465.py:6: RuntimeWarning: Channels contain different highpass filters. Highest filter setting will be stored.\n",
      "  raw = mne.io.read_raw_edf(file_path, preload=True)\n",
      "/var/folders/zf/8kv8czns0zgczf46xq4ht9kc0000gn/T/ipykernel_97781/2528426465.py:6: RuntimeWarning: Channels contain different lowpass filters. Lowest filter setting will be stored.\n",
      "  raw = mne.io.read_raw_edf(file_path, preload=True)\n",
      "/var/folders/zf/8kv8czns0zgczf46xq4ht9kc0000gn/T/ipykernel_97781/2528426465.py:6: RuntimeWarning: Highpass cutoff frequency 16.0 is greater than lowpass cutoff frequency 0.7, setting values to 0 and Nyquist.\n",
      "  raw = mne.io.read_raw_edf(file_path, preload=True)\n"
     ]
    },
    {
     "name": "stdout",
     "output_type": "stream",
     "text": [
      "NOTE: pick_channels() is a legacy function. New code should use inst.pick(...).\n",
      "Filtering raw data in 1 contiguous segment\n",
      "Setting up band-pass filter from 0.5 - 40 Hz\n",
      "\n",
      "FIR filter parameters\n",
      "---------------------\n",
      "Designing a one-pass, zero-phase, non-causal bandpass filter:\n",
      "- Windowed time-domain design (firwin) method\n",
      "- Hamming window with 0.0194 passband ripple and 53 dB stopband attenuation\n",
      "- Lower passband edge: 0.50\n",
      "- Lower transition bandwidth: 0.50 Hz (-6 dB cutoff frequency: 0.25 Hz)\n",
      "- Upper passband edge: 40.00 Hz\n",
      "- Upper transition bandwidth: 10.00 Hz (-6 dB cutoff frequency: 45.00 Hz)\n",
      "- Filter length: 661 samples (6.610 s)\n",
      "\n",
      "Processed: SC4052E0-PSG.edf\n",
      "Extracting EDF parameters from /Users/janet/projectnyx/sleep_data/physionet.org/files/sleep-edfx/1.0.0/sleep-cassette/SC4022E0-PSG.edf...\n",
      "EDF file detected\n",
      "Setting channel info structure...\n",
      "Creating raw.info structure...\n",
      "Reading 0 ... 8267999  =      0.000 ... 82679.990 secs...\n"
     ]
    },
    {
     "name": "stderr",
     "output_type": "stream",
     "text": [
      "/var/folders/zf/8kv8czns0zgczf46xq4ht9kc0000gn/T/ipykernel_97781/2528426465.py:6: RuntimeWarning: Channels contain different highpass filters. Highest filter setting will be stored.\n",
      "  raw = mne.io.read_raw_edf(file_path, preload=True)\n",
      "/var/folders/zf/8kv8czns0zgczf46xq4ht9kc0000gn/T/ipykernel_97781/2528426465.py:6: RuntimeWarning: Channels contain different lowpass filters. Lowest filter setting will be stored.\n",
      "  raw = mne.io.read_raw_edf(file_path, preload=True)\n",
      "/var/folders/zf/8kv8czns0zgczf46xq4ht9kc0000gn/T/ipykernel_97781/2528426465.py:6: RuntimeWarning: Highpass cutoff frequency 16.0 is greater than lowpass cutoff frequency 0.7, setting values to 0 and Nyquist.\n",
      "  raw = mne.io.read_raw_edf(file_path, preload=True)\n"
     ]
    },
    {
     "name": "stdout",
     "output_type": "stream",
     "text": [
      "NOTE: pick_channels() is a legacy function. New code should use inst.pick(...).\n",
      "Filtering raw data in 1 contiguous segment\n",
      "Setting up band-pass filter from 0.5 - 40 Hz\n",
      "\n",
      "FIR filter parameters\n",
      "---------------------\n",
      "Designing a one-pass, zero-phase, non-causal bandpass filter:\n",
      "- Windowed time-domain design (firwin) method\n",
      "- Hamming window with 0.0194 passband ripple and 53 dB stopband attenuation\n",
      "- Lower passband edge: 0.50\n",
      "- Lower transition bandwidth: 0.50 Hz (-6 dB cutoff frequency: 0.25 Hz)\n",
      "- Upper passband edge: 40.00 Hz\n",
      "- Upper transition bandwidth: 10.00 Hz (-6 dB cutoff frequency: 45.00 Hz)\n",
      "- Filter length: 661 samples (6.610 s)\n",
      "\n",
      "Processed: SC4022E0-PSG.edf\n",
      "Extracting EDF parameters from /Users/janet/projectnyx/sleep_data/physionet.org/files/sleep-edfx/1.0.0/sleep-cassette/SC4041E0-PSG.edf...\n",
      "EDF file detected\n",
      "Setting channel info structure...\n",
      "Creating raw.info structure...\n",
      "Reading 0 ... 7709999  =      0.000 ... 77099.990 secs...\n"
     ]
    },
    {
     "name": "stderr",
     "output_type": "stream",
     "text": [
      "/var/folders/zf/8kv8czns0zgczf46xq4ht9kc0000gn/T/ipykernel_97781/2528426465.py:6: RuntimeWarning: Channels contain different highpass filters. Highest filter setting will be stored.\n",
      "  raw = mne.io.read_raw_edf(file_path, preload=True)\n",
      "/var/folders/zf/8kv8czns0zgczf46xq4ht9kc0000gn/T/ipykernel_97781/2528426465.py:6: RuntimeWarning: Channels contain different lowpass filters. Lowest filter setting will be stored.\n",
      "  raw = mne.io.read_raw_edf(file_path, preload=True)\n",
      "/var/folders/zf/8kv8czns0zgczf46xq4ht9kc0000gn/T/ipykernel_97781/2528426465.py:6: RuntimeWarning: Highpass cutoff frequency 16.0 is greater than lowpass cutoff frequency 0.7, setting values to 0 and Nyquist.\n",
      "  raw = mne.io.read_raw_edf(file_path, preload=True)\n"
     ]
    },
    {
     "name": "stdout",
     "output_type": "stream",
     "text": [
      "NOTE: pick_channels() is a legacy function. New code should use inst.pick(...).\n",
      "Filtering raw data in 1 contiguous segment\n",
      "Setting up band-pass filter from 0.5 - 40 Hz\n",
      "\n",
      "FIR filter parameters\n",
      "---------------------\n",
      "Designing a one-pass, zero-phase, non-causal bandpass filter:\n",
      "- Windowed time-domain design (firwin) method\n",
      "- Hamming window with 0.0194 passband ripple and 53 dB stopband attenuation\n",
      "- Lower passband edge: 0.50\n",
      "- Lower transition bandwidth: 0.50 Hz (-6 dB cutoff frequency: 0.25 Hz)\n",
      "- Upper passband edge: 40.00 Hz\n",
      "- Upper transition bandwidth: 10.00 Hz (-6 dB cutoff frequency: 45.00 Hz)\n",
      "- Filter length: 661 samples (6.610 s)\n",
      "\n",
      "Processed: SC4041E0-PSG.edf\n",
      "Extracting EDF parameters from /Users/janet/projectnyx/sleep_data/physionet.org/files/sleep-edfx/1.0.0/sleep-cassette/SC4011E0-PSG.edf...\n",
      "EDF file detected\n",
      "Setting channel info structure...\n",
      "Creating raw.info structure...\n",
      "Reading 0 ... 8405999  =      0.000 ... 84059.990 secs...\n"
     ]
    },
    {
     "name": "stderr",
     "output_type": "stream",
     "text": [
      "/var/folders/zf/8kv8czns0zgczf46xq4ht9kc0000gn/T/ipykernel_97781/2528426465.py:6: RuntimeWarning: Channels contain different highpass filters. Highest filter setting will be stored.\n",
      "  raw = mne.io.read_raw_edf(file_path, preload=True)\n",
      "/var/folders/zf/8kv8czns0zgczf46xq4ht9kc0000gn/T/ipykernel_97781/2528426465.py:6: RuntimeWarning: Channels contain different lowpass filters. Lowest filter setting will be stored.\n",
      "  raw = mne.io.read_raw_edf(file_path, preload=True)\n",
      "/var/folders/zf/8kv8czns0zgczf46xq4ht9kc0000gn/T/ipykernel_97781/2528426465.py:6: RuntimeWarning: Highpass cutoff frequency 16.0 is greater than lowpass cutoff frequency 0.7, setting values to 0 and Nyquist.\n",
      "  raw = mne.io.read_raw_edf(file_path, preload=True)\n"
     ]
    },
    {
     "name": "stdout",
     "output_type": "stream",
     "text": [
      "NOTE: pick_channels() is a legacy function. New code should use inst.pick(...).\n",
      "Filtering raw data in 1 contiguous segment\n",
      "Setting up band-pass filter from 0.5 - 40 Hz\n",
      "\n",
      "FIR filter parameters\n",
      "---------------------\n",
      "Designing a one-pass, zero-phase, non-causal bandpass filter:\n",
      "- Windowed time-domain design (firwin) method\n",
      "- Hamming window with 0.0194 passband ripple and 53 dB stopband attenuation\n",
      "- Lower passband edge: 0.50\n",
      "- Lower transition bandwidth: 0.50 Hz (-6 dB cutoff frequency: 0.25 Hz)\n",
      "- Upper passband edge: 40.00 Hz\n",
      "- Upper transition bandwidth: 10.00 Hz (-6 dB cutoff frequency: 45.00 Hz)\n",
      "- Filter length: 661 samples (6.610 s)\n",
      "\n",
      "Processed: SC4011E0-PSG.edf\n",
      "Extracting EDF parameters from /Users/janet/projectnyx/sleep_data/physionet.org/files/sleep-edfx/1.0.0/sleep-cassette/SC4021E0-PSG.edf...\n",
      "EDF file detected\n",
      "Setting channel info structure...\n",
      "Creating raw.info structure...\n",
      "Reading 0 ... 8411999  =      0.000 ... 84119.990 secs...\n"
     ]
    },
    {
     "name": "stderr",
     "output_type": "stream",
     "text": [
      "/var/folders/zf/8kv8czns0zgczf46xq4ht9kc0000gn/T/ipykernel_97781/2528426465.py:6: RuntimeWarning: Channels contain different highpass filters. Highest filter setting will be stored.\n",
      "  raw = mne.io.read_raw_edf(file_path, preload=True)\n",
      "/var/folders/zf/8kv8czns0zgczf46xq4ht9kc0000gn/T/ipykernel_97781/2528426465.py:6: RuntimeWarning: Channels contain different lowpass filters. Lowest filter setting will be stored.\n",
      "  raw = mne.io.read_raw_edf(file_path, preload=True)\n",
      "/var/folders/zf/8kv8czns0zgczf46xq4ht9kc0000gn/T/ipykernel_97781/2528426465.py:6: RuntimeWarning: Highpass cutoff frequency 16.0 is greater than lowpass cutoff frequency 0.7, setting values to 0 and Nyquist.\n",
      "  raw = mne.io.read_raw_edf(file_path, preload=True)\n"
     ]
    },
    {
     "name": "stdout",
     "output_type": "stream",
     "text": [
      "NOTE: pick_channels() is a legacy function. New code should use inst.pick(...).\n",
      "Filtering raw data in 1 contiguous segment\n",
      "Setting up band-pass filter from 0.5 - 40 Hz\n",
      "\n",
      "FIR filter parameters\n",
      "---------------------\n",
      "Designing a one-pass, zero-phase, non-causal bandpass filter:\n",
      "- Windowed time-domain design (firwin) method\n",
      "- Hamming window with 0.0194 passband ripple and 53 dB stopband attenuation\n",
      "- Lower passband edge: 0.50\n",
      "- Lower transition bandwidth: 0.50 Hz (-6 dB cutoff frequency: 0.25 Hz)\n",
      "- Upper passband edge: 40.00 Hz\n",
      "- Upper transition bandwidth: 10.00 Hz (-6 dB cutoff frequency: 45.00 Hz)\n",
      "- Filter length: 661 samples (6.610 s)\n",
      "\n",
      "Processed: SC4021E0-PSG.edf\n",
      "Extracting EDF parameters from /Users/janet/projectnyx/sleep_data/physionet.org/files/sleep-edfx/1.0.0/sleep-cassette/SC4042E0-PSG.edf...\n",
      "EDF file detected\n",
      "Setting channel info structure...\n",
      "Creating raw.info structure...\n",
      "Reading 0 ... 8375999  =      0.000 ... 83759.990 secs...\n"
     ]
    },
    {
     "name": "stderr",
     "output_type": "stream",
     "text": [
      "/var/folders/zf/8kv8czns0zgczf46xq4ht9kc0000gn/T/ipykernel_97781/2528426465.py:6: RuntimeWarning: Channels contain different highpass filters. Highest filter setting will be stored.\n",
      "  raw = mne.io.read_raw_edf(file_path, preload=True)\n",
      "/var/folders/zf/8kv8czns0zgczf46xq4ht9kc0000gn/T/ipykernel_97781/2528426465.py:6: RuntimeWarning: Channels contain different lowpass filters. Lowest filter setting will be stored.\n",
      "  raw = mne.io.read_raw_edf(file_path, preload=True)\n",
      "/var/folders/zf/8kv8czns0zgczf46xq4ht9kc0000gn/T/ipykernel_97781/2528426465.py:6: RuntimeWarning: Highpass cutoff frequency 16.0 is greater than lowpass cutoff frequency 0.7, setting values to 0 and Nyquist.\n",
      "  raw = mne.io.read_raw_edf(file_path, preload=True)\n"
     ]
    }
   ],
   "source": [
    "def load_data(output_dir):\n",
    "    X = []\n",
    "    y = []\n",
    "    for file in os.listdir(output_dir):\n",
    "        if file.endswith('.npz'):\n",
    "            data = np.load(os.path.join(output_dir, file))\n",
    "            epochs = data['epochs']\n",
    "            # Flatten the epochs and add to X\n",
    "            X.extend([epoch.flatten() for epoch in epochs[0]])  # Using only the first channel for simplicity\n",
    "            # Generate random labels (0-4) for demonstration. Replace with actual labels.\n",
    "            y.extend(np.random.randint(0, 5, size=epochs.shape[1]))\n",
    "    return np.array(X), np.array(y)\n",
    "\n",
    "def train_random_forest(X, y):\n",
    "    X_train, X_test, y_train, y_test = train_test_split(X, y, test_size=0.2, random_state=42)\n",
    "    rf_classifier = RandomForestClassifier(n_estimators=100, random_state=42)\n",
    "    rf_classifier.fit(X_train, y_train)\n",
    "    y_pred = rf_classifier.predict(X_test) #prediction\n",
    "    accuracy = accuracy_score(y_test, y_pred)\n",
    "    print(f\"Accuracy: {accuracy:.2f}\")\n",
    "    print(\"\\nClassification Report:\")\n",
    "    print(classification_report(y_test, y_pred))\n",
    "\n",
    "    return rf_classifier\n",
    "\n",
    "# Main\n",
    "if __name__ == \"__main__\":\n",
    "    data_dir = \"/Users/janet/projectnyx/sleep_data/physionet.org/files/sleep-edfx/1.0.0/sleep-cassette\"\n",
    "    output_dir = \"/Users/janet/projectnyx/sleep_data/EEG_preprocessed\"\n",
    "    os.makedirs(output_dir, exist_ok=True)\n",
    "\n",
    "    preprocess_sleep_edf(data_dir, output_dir)\n",
    "    print(\"Preprocessing completed. Preprocessed files saved in:\", output_dir)\n",
    "    X, y = load_data(output_dir)\n",
    "\n",
    "    rf_model = train_random_forest(X, y) #training\n",
    "\n",
    "\n",
    "    dump(rf_model, os.path.join(output_dir, 'random_forest_model.joblib'))\n",
    "    print(\"Model trained and saved as 'random_forest_model.joblib'\")"
   ]
  },
  {
   "cell_type": "code",
   "execution_count": null,
   "id": "cc794c27-92fd-45a0-82eb-0b0a46c64e39",
   "metadata": {},
   "outputs": [],
   "source": []
  }
 ],
 "metadata": {
  "kernelspec": {
   "display_name": "Python 3 (ipykernel)",
   "language": "python",
   "name": "python3"
  },
  "language_info": {
   "codemirror_mode": {
    "name": "ipython",
    "version": 3
   },
   "file_extension": ".py",
   "mimetype": "text/x-python",
   "name": "python",
   "nbconvert_exporter": "python",
   "pygments_lexer": "ipython3",
   "version": "3.12.4"
  }
 },
 "nbformat": 4,
 "nbformat_minor": 5
}
